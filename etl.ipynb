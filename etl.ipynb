{
 "cells": [
  {
   "cell_type": "code",
   "execution_count": null,
   "metadata": {},
   "outputs": [],
   "source": [
    "import pandas as pd\n",
    "import numpy as np"
   ]
  },
  {
   "cell_type": "code",
   "execution_count": null,
   "metadata": {},
   "outputs": [],
   "source": [
    "date_range_1 = pd.date_range(start='2010-01-01',end='2011-11-02')\n",
    "date_range_2 = pd.date_range(start='2011-11-04',end='2011-11-05')\n",
    "date_range_3 = pd.date_range(start='2013-01-01',end='2013-09-12')\n",
    "date_range_4 = pd.date_range(start='2013-09-13',end='2013-09-14')\n",
    "date_range_5 = pd.date_range(start='2013-09-15',end='2023-09-08')\n",
    "date_range_6 = pd.date_range(start='2011-07-11',end='2012-12-31')\n",
    "date_range = [date_range_1,date_range_2,date_range_3,date_range_4,date_range_5,date_range_6]\n",
    "date_range_1_index = [1,4,5,11,13]\n",
    "date_range_2_index = [1,4,5,0,11]\n",
    "date_range_3_index = [1,3,4,11,9]\n",
    "date_range_4_index = [1,3,4,0,9]\n",
    "date_range_5_index = [1,3,4,0,7]\n",
    "date_range_6_index = [1,3,4,0,11]\n",
    "date_range_index = [date_range_1_index,date_range_2_index,date_range_3_index,date_range_4_index,date_range_5_index,date_range_6_index]"
   ]
  },
  {
   "cell_type": "code",
   "execution_count": null,
   "metadata": {},
   "outputs": [],
   "source": [
    "url_prefix = 'https://www3.hkexnews.hk/reports/sharerepur/documents/SRRPT'\n",
    "url_suffix = '.xls'\n",
    "df = pd.DataFrame()\n",
    "for i, j in enumerate(date_range):\n",
    "    df_temp = pd.DataFrame()\n",
    "    for x in j:\n",
    "        try:\n",
    "            temp = pd.read_excel('{}{}{:02d}{:02d}{}'.format(url_prefix,x.year,x.month,x.day,url_suffix))\n",
    "            df_temp = pd.concat([df_temp,temp])\n",
    "        except:\n",
    "            pass    \n",
    "    df_temp.to_csv('C:/Users/kelvi/Downloads/temp_{}.csv'.format(i))\n",
    "    temp2 = df_temp.iloc[:,date_range_index[i]].dropna(axis=0,how='any')\n",
    "    temp2.reset_index(drop=True,inplace=True)\n",
    "    temp2.columns = [['code','date','shares','name','amount']]\n",
    "    temp2.drop_duplicates(inplace=True)\n",
    "    df = pd.concat([df,temp2])"
   ]
  },
  {
   "cell_type": "code",
   "execution_count": null,
   "metadata": {},
   "outputs": [],
   "source": [
    "df.to_csv('C:/Users/kelvi/Downloads/test3.csv')"
   ]
  }
 ],
 "metadata": {
  "kernelspec": {
   "display_name": "Python 3",
   "language": "python",
   "name": "python3"
  },
  "language_info": {
   "codemirror_mode": {
    "name": "ipython",
    "version": 3
   },
   "file_extension": ".py",
   "mimetype": "text/x-python",
   "name": "python",
   "nbconvert_exporter": "python",
   "pygments_lexer": "ipython3",
   "version": "3.11.4"
  },
  "orig_nbformat": 4
 },
 "nbformat": 4,
 "nbformat_minor": 2
}
